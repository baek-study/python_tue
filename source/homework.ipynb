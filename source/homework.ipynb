{
  "nbformat": 4,
  "nbformat_minor": 0,
  "metadata": {
    "colab": {
      "provenance": [],
      "toc_visible": true
    },
    "kernelspec": {
      "name": "python3",
      "display_name": "Python 3"
    },
    "language_info": {
      "name": "python"
    }
  },
  "cells": [
    {
      "cell_type": "markdown",
      "source": [
        "## **[과제3차] 7주차 도전과제**\n",
        "사용자에게 두 개의 정수 a와 b를 입력 받고,<br> 1부터\n",
        "500이하의 정수 중 <br>\n",
        "a의 배수면서 b의 배수인 수를\n",
        "출력하는 프로그램 작성.<br>\n",
        "- 단, 사용자가 1~500사이\n",
        "의 두 개의 정수를 정확하게 입력할 때 까지<br> 입력작업을 반복 수행.\n",
        "\n",
        "\n",
        "---\n",
        "\n",
        "첫 번째 정수를 입력하시오: -2<br>\n",
        "두 번째 정수를 입력하시오: 3<br>\n",
        "첫 번째 정수를 입력하시오: 3<br>\n",
        "두 번째 정수를 입력하시오: 5<br>\n",
        "15, 30, 45, 60, 75, 90, 105, 120, 135, 150, 165,\n",
        "180, 195, 210, 225, 240, 255, 270, 285, 300,\n",
        "315, 330, 345, 360, 375, 390, 405, 420, 435,\n",
        "450, 465, 480, 495"
      ],
      "metadata": {
        "id": "EG9PAEKcTwA3"
      }
    },
    {
      "cell_type": "code",
      "source": [
        "#일반적인 답안\n",
        "while True:\n",
        "    a = int(input(\"첫 번째 정수를 입력하시오: \"))\n",
        "    b = int(input(\"두 번째 정수를 입력하시오: \"))\n",
        "    if 1 <= a <= 500 and 1 <= b <= 500 :\n",
        "        break\n",
        "\n",
        "i = 1\n",
        "while i <= 500:\n",
        "    if i % a == 0 and i % b == 0:\n",
        "        print(f\"{i}\", end = \", \")\n",
        "    i = i + 1"
      ],
      "metadata": {
        "id": "kgpb8MmrTowl"
      },
      "execution_count": null,
      "outputs": []
    },
    {
      "cell_type": "code",
      "source": [
        "# 입출력 유효성 검사에 대한 다른 답안\n",
        "a = -1\n",
        "b = -1\n",
        "\n",
        "while not(1 <= a <= 500 and 1 <= b <= 500) :   # while a<1 or a>500 or b<1 or b>500 :\n",
        "    a = int(input(\"첫 번째 정수를 입력하시오: \"))\n",
        "    b = int(input(\"두 번째 정수를 입력하시오: \"))\n",
        "\n",
        "#a의 배수이면서 b의 배수에 대한창의적인 답안1\n",
        "maxValue = max(a, b)\n",
        "minValue = min(a, b)\n",
        "\n",
        "i = 1\n",
        "for i in range(maxValue, 500+1, maxValue) :  # 반복 횟수를 줄일수 있음\n",
        "    if i % minValue == 0:\n",
        "         print(f\"{i}\", end = \", \")"
      ],
      "metadata": {
        "colab": {
          "base_uri": "https://localhost:8080/"
        },
        "id": "O_1IhuyczKYh",
        "outputId": "3ecb4f6e-541a-4655-cb12-a3b64cab4d2e"
      },
      "execution_count": null,
      "outputs": [
        {
          "output_type": "stream",
          "name": "stdout",
          "text": [
            "첫 번째 정수를 입력하시오: -2\n",
            "두 번째 정수를 입력하시오: 3\n",
            "첫 번째 정수를 입력하시오: 15\n",
            "두 번째 정수를 입력하시오: 3\n",
            "15, 30, 45, 60, 75, 90, 105, 120, 135, 150, 165, 180, 195, 210, 225, 240, 255, 270, 285, 300, 315, 330, 345, 360, 375, 390, 405, 420, 435, 450, 465, 480, 495, "
          ]
        }
      ]
    },
    {
      "cell_type": "code",
      "source": [
        "#a의 배수이면서 b의 배수에 대한 오류\n",
        "\n",
        "a = int(input(\"첫 번째 정수를 입력하시오: \"))\n",
        "b = int(input(\"두 번째 정수를 입력하시오: \"))\n",
        "\n",
        "num = a*b                         # 두 수간의 약수가 있으면 오류 발생!!!\n",
        "\n",
        "for i in range(num, 501, num) :\n",
        "    print(f\"{i}\", end = \", \")\n"
      ],
      "metadata": {
        "id": "d_H_v-FE1OXd",
        "colab": {
          "base_uri": "https://localhost:8080/"
        },
        "outputId": "3ed22cf5-bdd9-4850-b6e3-e6e45a970738"
      },
      "execution_count": null,
      "outputs": [
        {
          "output_type": "stream",
          "name": "stdout",
          "text": [
            "첫 번째 정수를 입력하시오: 3\n",
            "두 번째 정수를 입력하시오: 15\n",
            "45, 90, 135, 180, 225, 270, 315, 360, 405, 450, 495, "
          ]
        }
      ]
    },
    {
      "cell_type": "markdown",
      "source": [
        "## **[과제3차] 10주차 도전과제**\n",
        "사용자에게 2에서10 사이의 정수를 입력 받고, <br>\n",
        "2부터 사용자가 입력한 정수중 짝수에 해당하는 수의 factorial 값을계산하여<br> 출력하는 프로그램을 작성하시오. <br>\n",
        "- 단, 사용자가 2에서10 사이의 정수를 정확하게 입력할 때 까지 입력작업을 무한 반복시키고 <br> 반드시 break를 사용하여 반복을 종료시키시오.\n",
        "- 반복문 안에 continue를 이용해서 구현 하시오.\n",
        "\n",
        "\n",
        "---\n",
        "2 ~ 10사이의 정수 1개를 입력하시오: 12<br>\n",
        "2 ~ 10사이의 정수 1개를 입력하시오: -1<br>\n",
        "2 ~ 10사이의 정수 1개를 입력하시오: 8<br>\n",
        "2!은 2다.<br>\n",
        "4!은 24다.<br>\n",
        "6!은 720다.<br>\n",
        "8!은 40320다.\n",
        "\n"
      ],
      "metadata": {
        "id": "JfsDyF15TYqD"
      }
    },
    {
      "cell_type": "code",
      "source": [
        "# 기본적인 답안\n",
        "while True:\n",
        "    num = int(input(\"2~10 사이의 정수 1개를 입력하세요:\"))\n",
        "    if num >= 2 and num <= 10 :\n",
        "        break\n",
        "\n",
        "# 중첩 for 이용\n",
        "for i in range(2, num+1):\n",
        "    if i % 2 != 0:\n",
        "        continue\n",
        "\n",
        "    fact_value = 1\n",
        "    for j in range(1, i+1):\n",
        "        fact_value *= j\n",
        "\n",
        "    print(f'{i}!은 {fact_value} 다')"
      ],
      "metadata": {
        "id": "NEYHYnTATl-G",
        "colab": {
          "base_uri": "https://localhost:8080/"
        },
        "outputId": "cead5e91-6a28-498a-9f28-17ba922b1d8a"
      },
      "execution_count": null,
      "outputs": [
        {
          "output_type": "stream",
          "name": "stdout",
          "text": [
            "2~10 사이의 정수 1개를 입력하세요:12\n",
            "2~10 사이의 정수 1개를 입력하세요:-1\n",
            "2~10 사이의 정수 1개를 입력하세요:8\n",
            "2!은 2 다\n",
            "4!은 24 다\n",
            "6!은 720 다\n",
            "8!은 40320 다\n"
          ]
        }
      ]
    },
    {
      "cell_type": "code",
      "source": [
        "# 입출력 유효성 검사에 대한 다른 답안\n",
        "num = -1\n",
        "while num < 2 or num >10 :\n",
        "    num = int(input(\"2~10 사이의 정수 1개를 입력하세요:\"))\n",
        "\n",
        "# factorial에 대한 창의적인 답안 - 하나의 for\n",
        "fact_value = 1\n",
        "for i in range(2, num+1):\n",
        "    fact_value *= i\n",
        "\n",
        "    if i % 2 != 0:\n",
        "        continue\n",
        "\n",
        "    print(f'{i}!은 {fact_value} 다')\n"
      ],
      "metadata": {
        "colab": {
          "base_uri": "https://localhost:8080/"
        },
        "id": "aUDtNhnkwRhb",
        "outputId": "1a674acc-34d7-492d-ed57-6e86b0103619"
      },
      "execution_count": null,
      "outputs": [
        {
          "output_type": "stream",
          "name": "stdout",
          "text": [
            "2~10 사이의 정수 1개를 입력하세요:12\n",
            "2~10 사이의 정수 1개를 입력하세요:-1\n",
            "2~10 사이의 정수 1개를 입력하세요:8\n",
            "2!은 2 다\n",
            "4!은 24 다\n",
            "6!은 720 다\n",
            "8!은 40320 다\n"
          ]
        }
      ]
    }
  ]
}