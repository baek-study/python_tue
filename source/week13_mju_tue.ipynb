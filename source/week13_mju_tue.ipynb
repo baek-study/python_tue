{
  "nbformat": 4,
  "nbformat_minor": 0,
  "metadata": {
    "colab": {
      "provenance": []
    },
    "kernelspec": {
      "name": "python3",
      "display_name": "Python 3"
    },
    "language_info": {
      "name": "python"
    }
  },
  "cells": [
    {
      "cell_type": "markdown",
      "source": [
        "### **[13주차 강의] - 파이썬 입문(화)/백혜정 교수**"
      ],
      "metadata": {
        "id": "2aBFhXkTIXlw"
      }
    },
    {
      "cell_type": "markdown",
      "source": [
        "## **리뷰: 리스트 반복**\n",
        "\n",
        "*  리스트 이용 : for 변수 in 리스트 : # 변수 - 요소값\n",
        "* range() 이용 : for 변수 in range(0, len(리스트)) : #변수 - 인덱스\n"
      ],
      "metadata": {
        "id": "EVCkaJXuIznA"
      }
    },
    {
      "cell_type": "markdown",
      "source": [
        "### 퀴즈\n",
        "list1에 정수 5개 값을 초기화 <br>\n",
        "target 리스트에 깊은 복사 수행<br>\n",
        "target 리스트에 100 추가<br>\n",
        "target 리스트 요소 값을 출력 (for 이용)<br>"
      ],
      "metadata": {
        "id": "7-izTRNvKJoG"
      }
    },
    {
      "cell_type": "code",
      "source": [
        "# list1에 정수 5개 값을 초기화\n",
        "list1 = [10,20, 30, 40, 50]\n",
        "# target 리스트에 깊은 복사 수행\n",
        "target = list(list1)   # list1[:]\n",
        "# target 리스트에 100 추가\n",
        "target.append(100)\n",
        "\n",
        "#  target 리스트 요소 값을 출력 (for 이용) - 반복\n",
        "for item in target:\n",
        "    print(item)\n",
        "\n",
        "# target 리스트 인덱스 이용해 출력\n",
        "for i in range(0, len(target)) :\n",
        "    print(f'{target[i]=}')"
      ],
      "metadata": {
        "id": "QOiXr7CaKDY_",
        "colab": {
          "base_uri": "https://localhost:8080/"
        },
        "outputId": "c7823622-c2f9-4788-96a8-102e3ed385ac"
      },
      "execution_count": 3,
      "outputs": [
        {
          "output_type": "stream",
          "name": "stdout",
          "text": [
            "10\n",
            "20\n",
            "30\n",
            "40\n",
            "50\n",
            "100\n",
            "target[i]=10\n",
            "target[i]=20\n",
            "target[i]=30\n",
            "target[i]=40\n",
            "target[i]=50\n",
            "target[i]=100\n"
          ]
        }
      ]
    },
    {
      "cell_type": "code",
      "source": [
        "temp = range(0, 20)\n",
        "\n",
        "print(type(temp))\n",
        "print(list(temp))"
      ],
      "metadata": {
        "colab": {
          "base_uri": "https://localhost:8080/"
        },
        "id": "9D2LY5HEcHnW",
        "outputId": "1f1216d8-a509-4d0a-d8a6-c2548ad95444"
      },
      "execution_count": null,
      "outputs": [
        {
          "output_type": "stream",
          "name": "stdout",
          "text": [
            "<class 'range'>\n",
            "[0, 1, 2, 3, 4, 5, 6, 7, 8, 9, 10, 11, 12, 13, 14, 15, 16, 17, 18, 19]\n"
          ]
        }
      ]
    },
    {
      "cell_type": "markdown",
      "source": [
        "# **1부 리스트 동작**\n",
        "\n",
        "*  내장함수 : 파이썬에서 제공 함수 - len(리스트이름)\n",
        "* 메소드 : 리스트 객체내의 함수 -리스트이름.append()"
      ],
      "metadata": {
        "id": "wrERPa6C-Yzg"
      }
    },
    {
      "cell_type": "markdown",
      "source": [
        "##**3.1 내장함수**\n",
        "\n",
        "*   len(리스트) : 리스트 길이\n",
        "* max(리스트) : 리스트내의 max 값\n",
        "* min(리스트) : 리스트내의 min 값\n"
      ],
      "metadata": {
        "id": "t0gp0vA0_Cyv"
      }
    },
    {
      "cell_type": "markdown",
      "source": [
        "##**3.2 주요 리스트 메소드**\n",
        "\n",
        "\n",
        "* 추가 : append(값), insert(삽입위치, 값)\n",
        "* 삭제 : del 리스트[삭제인덱스], remove(값)\n",
        "* 찾기 : index(값)\n",
        "* 개수 : count(값) # 없는 경우 0 리턴"
      ],
      "metadata": {
        "id": "MCzTKLGD_I1v"
      }
    },
    {
      "cell_type": "code",
      "source": [
        "nums = [11, 22, 33]\n",
        "\n",
        "#1. 리스트에 요소 추가\n",
        "#append(값) 함수 - 리스트 제일 뒤에 55 추가\n",
        "nums.append(55)\n",
        "nums.append(66)\n",
        "print(f'{nums = }')\n",
        "\n",
        "#insert(삽입위치, 값) 함수 - (특정) 삽입위치에 데이터 추가 3위치에 4 넣기\n",
        "nums.insert(3, 4)\n",
        "print(f'{nums = }')\n",
        "\n",
        "#insert(삽입위치, 값) 함수 - 마지막 요소 자리에 50 삽입\n",
        "nums.insert(-1, 50)\n",
        "print(f'{nums = }')\n",
        "\n",
        "nums = [11, 22, 33, 0, 11, 22, 33]\n",
        "#2. 리스트에 요소 삭제\n",
        "#del 키워드 -리스트 인덱싱이나 슬라이싱을 이용하여 요소를  선택하여 삭제\n",
        "print(f'{nums = }')\n",
        "\n",
        "#  1번째 삭제\n",
        "del nums[1]\n",
        "print(f'삭제 후 {nums = }')\n",
        "# 2,3 삭제 -> 슬라이싱\n",
        "del nums[2:4]\n",
        "print(f'삭제 후 {nums = }')\n",
        "\n",
        "nums = [11, 22, 33, 0, 11, 22, 33]\n",
        "#remove 함수 - 리스트에서 요소 값과 일치하는 첫번째 요소만 삭제 *한 번만 삭제\n",
        "# 요소가 33값 삭제\n",
        "nums.remove(33)\n",
        "print(f'remove 후  {nums = }')\n",
        "\n",
        "nums = [11,22,33,55]\n",
        "#2. 리스트에 요소 찾기\n",
        "#index(값)함수 - 특정 요소의 인덱스 위치 반환\n",
        "# nums 리스트에 44 의 인덱스\n",
        "#print(nums.index(44))\n",
        "\n",
        "#count(값)함수 - 값 이 일치하는 요소 개수 세기\n",
        "# nums 리스트에 33이 몇 개?\n",
        "print(nums.count(44))"
      ],
      "metadata": {
        "id": "VgayC0ne_d1_",
        "colab": {
          "base_uri": "https://localhost:8080/"
        },
        "outputId": "9923f25a-d36d-4a73-f90e-c264deae8202"
      },
      "execution_count": null,
      "outputs": [
        {
          "output_type": "stream",
          "name": "stdout",
          "text": [
            "nums = [11, 22, 33, 55, 66]\n",
            "nums = [11, 22, 33, 4, 55, 66]\n",
            "nums = [11, 22, 33, 4, 55, 50, 66]\n",
            "nums = [11, 22, 33, 0, 11, 22, 33]\n",
            "삭제 후 nums = [11, 33, 0, 11, 22, 33]\n",
            "삭제 후 nums = [11, 33, 22, 33]\n",
            "remove 후  nums = [11, 22, 0, 11, 22, 33]\n",
            "0\n"
          ]
        }
      ]
    },
    {
      "cell_type": "markdown",
      "source": [
        "### 친구 관리 프로그램\n",
        "--------------------\n",
        "1. 친구 리스트 출력\n",
        "2. 친구추가\n",
        "3. 친구삭제\n",
        "9. 종료\n",
        "메뉴를 선택하시오: 2\n",
        "이름을 입력하시오: 홍길동"
      ],
      "metadata": {
        "id": "jgSFcaE5AMtP"
      }
    },
    {
      "cell_type": "code",
      "source": [
        "# 1. 변수 menu\n",
        "menu = -1\n",
        "\n",
        "# 2. 리스트 friends - 빈리스트\n",
        "friends = []\n",
        "\n",
        "# 3. 무한 반복 - 친구 관리 메뉴 보기 & 선택 & 실행\n",
        "while True:\n",
        "    # 3.1 메뉴 목록\n",
        "    print(\"--------------------\")\n",
        "    print(\"1. 친구 리스트 출력\")\n",
        "    print(\"2. 친구추가\")\n",
        "    print(\"3. 친구삭제\")\n",
        "    print(\"9. 종료\")\n",
        "\n",
        "    # 3.2 사용자 입력(menu) - 메뉴를 선택하시오:\n",
        "    menu = int(input(\"메뉴를 입력 하시오 : \"))\n",
        "\n",
        "    # 3.3 조건\n",
        "    if menu == 1:\n",
        "        print(\"메뉴가 1이 입력 되었습니다.\")\n",
        "        # 1이면 친구 리스트 출력\n",
        "        for item in friends :\n",
        "            print(item)\n",
        "\n",
        "    elif menu == 2 :\n",
        "        print(\"메뉴가 2가 입력 되었습니다.\")\n",
        "        # 2이면, 사용자 입력(name) - 이름을 입력 하시오 => 친구 리스트에 추가\n",
        "        name = input(\"친구이름 입력 :\")\n",
        "        friends.append(name)\n",
        "\n",
        "    elif menu == 3:\n",
        "        print(\"메뉴가 3이 입력 되었습니다.\")\n",
        "        # 3이면, 사용자 입력(del_name) - 삭제할 이름을 입력 하시오 =>\n",
        "        # 조건 - 삭제할 친구 이름이 친구 리스트에 있으면 삭제하고, 그렇지 않으면 '친구리스트에 없습니다.' 출력\n",
        "        del_name = input(\"삭제하고 싶은 이름 입력 : \")\n",
        "        if del_name in friends :\n",
        "            friends.remove(del_name)\n",
        "    # 9 이면 종료...\n",
        "    elif menu == 9:\n",
        "        print(\"메뉴가 9가 입력 되었습니다.\")\n",
        "        break\n",
        "\n",
        "    else :\n",
        "        print(\"메뉴가 잘못 입력 되었습니다.\")\n",
        "\n"
      ],
      "metadata": {
        "id": "HpfBjuG-ANvP",
        "colab": {
          "base_uri": "https://localhost:8080/"
        },
        "outputId": "4bc2a477-ada5-456d-d1f6-56fe92aab050"
      },
      "execution_count": null,
      "outputs": [
        {
          "output_type": "stream",
          "name": "stdout",
          "text": [
            "--------------------\n",
            "1. 친구 리스트 출력\n",
            "2. 친구추가\n",
            "3. 친구삭제\n",
            "9. 종료\n",
            "메뉴를 입력 하시오 : 2\n",
            "메뉴가 2가 입력 되었습니다.\n",
            "친구이름 입력 :대한\n",
            "--------------------\n",
            "1. 친구 리스트 출력\n",
            "2. 친구추가\n",
            "3. 친구삭제\n",
            "9. 종료\n",
            "메뉴를 입력 하시오 : 2\n",
            "메뉴가 2가 입력 되었습니다.\n",
            "친구이름 입력 :민국\n",
            "--------------------\n",
            "1. 친구 리스트 출력\n",
            "2. 친구추가\n",
            "3. 친구삭제\n",
            "9. 종료\n",
            "메뉴를 입력 하시오 : 2\n",
            "메뉴가 2가 입력 되었습니다.\n",
            "친구이름 입력 :만세\n",
            "--------------------\n",
            "1. 친구 리스트 출력\n",
            "2. 친구추가\n",
            "3. 친구삭제\n",
            "9. 종료\n",
            "메뉴를 입력 하시오 : 1\n",
            "메뉴가 1이 입력 되었습니다.\n",
            "대한\n",
            "민국\n",
            "만세\n",
            "--------------------\n",
            "1. 친구 리스트 출력\n",
            "2. 친구추가\n",
            "3. 친구삭제\n",
            "9. 종료\n",
            "메뉴를 입력 하시오 : 3\n",
            "메뉴가 3이 입력 되었습니다.\n",
            "삭제하고 싶은 이름 입력 : 명지\n",
            "--------------------\n",
            "1. 친구 리스트 출력\n",
            "2. 친구추가\n",
            "3. 친구삭제\n",
            "9. 종료\n",
            "메뉴를 입력 하시오 : 1\n",
            "메뉴가 1이 입력 되었습니다.\n",
            "대한\n",
            "민국\n",
            "만세\n",
            "--------------------\n",
            "1. 친구 리스트 출력\n",
            "2. 친구추가\n",
            "3. 친구삭제\n",
            "9. 종료\n",
            "메뉴를 입력 하시오 : 3\n",
            "메뉴가 3이 입력 되었습니다.\n",
            "삭제하고 싶은 이름 입력 : 민국\n",
            "--------------------\n",
            "1. 친구 리스트 출력\n",
            "2. 친구추가\n",
            "3. 친구삭제\n",
            "9. 종료\n",
            "메뉴를 입력 하시오 : 1\n",
            "메뉴가 1이 입력 되었습니다.\n",
            "대한\n",
            "만세\n",
            "--------------------\n",
            "1. 친구 리스트 출력\n",
            "2. 친구추가\n",
            "3. 친구삭제\n",
            "9. 종료\n",
            "메뉴를 입력 하시오 : 9\n",
            "메뉴가 9가 입력 되었습니다.\n"
          ]
        }
      ]
    },
    {
      "cell_type": "markdown",
      "source": [
        "# **2부 복합자료형과 함수**\n",
        "\n",
        "리스트와 딕셔너리가 함수의 매개변수, 반환형인 경우\n",
        "\n",
        "\n"
      ],
      "metadata": {
        "id": "f-xkcedf6rli"
      }
    },
    {
      "cell_type": "markdown",
      "source": [
        "## **2.1 매개변수로서 리스트**\n",
        "\n",
        "\n",
        "* 리스트를 매개변수로 전달\n",
        "* 함수안에서 리스트 객체 변경시 - 새로운 리스트로 대입\n",
        "\n"
      ],
      "metadata": {
        "id": "8qPQebzSARjc"
      }
    },
    {
      "cell_type": "code",
      "source": [
        "# 1. 리스트가 매개변수 일때 - 단지 사용만\n",
        "#func1 정의\n",
        "def func1(list1) :\n",
        "    print(f'함수 안: {list1=}')\n",
        "    for item in list1:\n",
        "        print(item)\n",
        "\n",
        "values = [0, 1, 2, 3, 4, 5, 6]\n",
        "#func1 호출\n",
        "func1(values)\n",
        "# values 출력\n",
        "print(f'함수 밖: {values=}')\n"
      ],
      "metadata": {
        "id": "8F2vnsTuBWYP",
        "colab": {
          "base_uri": "https://localhost:8080/"
        },
        "outputId": "ff831b55-a7b1-425a-9bfd-34d2c33ddb83"
      },
      "execution_count": null,
      "outputs": [
        {
          "output_type": "stream",
          "name": "stdout",
          "text": [
            "함수 안: list1=[0, 1, 2, 3, 4, 5, 6]\n",
            "0\n",
            "1\n",
            "2\n",
            "3\n",
            "4\n",
            "5\n",
            "6\n",
            "함수 밖: values=[0, 1, 2, 3, 4, 5, 6]\n"
          ]
        }
      ]
    },
    {
      "cell_type": "code",
      "source": [
        "# 2. 리스트가 매개변수 일때 - 리스트의 원소를 수정할때\n",
        "#func2 정의  - 리스트의 0 번째를 99로 수정\n",
        "def func2(list1) :\n",
        "    list1[0] = 99\n",
        "    print(f'함수 안: {list1=}')\n",
        "\n",
        "values = [0, 1, 1, 2, 3, 5, 8]\n",
        "# func2 호출\n",
        "func2(values)\n",
        "# values 출력\n",
        "print(f'함수 밖: {values=}')\n"
      ],
      "metadata": {
        "id": "t-BekBUvBYdO",
        "colab": {
          "base_uri": "https://localhost:8080/"
        },
        "outputId": "ac3bc7d1-0cd8-493d-bf14-15d4b296cf4b"
      },
      "execution_count": null,
      "outputs": [
        {
          "output_type": "stream",
          "name": "stdout",
          "text": [
            "함수 안: list1=[99, 1, 1, 2, 3, 5, 8]\n",
            "함수 밖: values=[99, 1, 1, 2, 3, 5, 8]\n"
          ]
        }
      ]
    },
    {
      "cell_type": "code",
      "source": [
        "# 3. 리스트가 매개변수 일때 - 리스트의 자체를 새로운 것으로 수정할때\n",
        "# func3 정의\n",
        "# list를 새로운 리스트로 변경 [ 28, 31, 33, 35, 27, 26, 25]\n",
        "def func3(list1) :\n",
        "    print(f'함수 안 - 변경 전: {list1=}')\n",
        "    list1 = [ 28, 31, 33, 35, 27, 26, 25]\n",
        "    print(f'함수 안 - 변경 후: {list1=}')\n",
        "\n",
        "values = [0, 1, 1, 2, 3, 5, 8 ]\n",
        "# func3 함수 호출\n",
        "func3(values)\n",
        "\n",
        "# values 출력\n",
        "print(f'함수 밖: {values=}')\n",
        "\n"
      ],
      "metadata": {
        "id": "Kyd6GMIx65Bq",
        "colab": {
          "base_uri": "https://localhost:8080/"
        },
        "outputId": "f9ad3310-f068-4078-b568-cb8c6579eef6"
      },
      "execution_count": null,
      "outputs": [
        {
          "output_type": "stream",
          "name": "stdout",
          "text": [
            "함수 안 - 변경 전: list1=[0, 1, 1, 2, 3, 5, 8]\n",
            "함수 안 - 변경 후: list1=[28, 31, 33, 35, 27, 26, 25]\n",
            "함수 밖: values=[0, 1, 1, 2, 3, 5, 8]\n"
          ]
        }
      ]
    },
    {
      "cell_type": "markdown",
      "source": [
        "## **2.2 반환형으로서 리스트**"
      ],
      "metadata": {
        "id": "CxueWLNXC4KW"
      }
    },
    {
      "cell_type": "code",
      "source": [
        "# 4. 리스트가 반환형 일 때\n",
        "# func4 정의\n",
        "def func4() :\n",
        "    list1 = [11, 22, 33, 44, 55]\n",
        "    return list1\n",
        "\n",
        "# func4 함수 호출\n",
        "values = func4()\n",
        "\n",
        "# values 출력\n",
        "print(f'{values=}')\n"
      ],
      "metadata": {
        "id": "CiyPtpUlBhpm",
        "colab": {
          "base_uri": "https://localhost:8080/"
        },
        "outputId": "5a184bf4-e62d-46f3-bf57-df05eeb50824"
      },
      "execution_count": null,
      "outputs": [
        {
          "output_type": "stream",
          "name": "stdout",
          "text": [
            "values=[11, 22, 33, 44, 55]\n"
          ]
        }
      ]
    },
    {
      "cell_type": "markdown",
      "source": [
        "### 실습 문제\n",
        "사용자로부터 정수를 4개 입력 받아 리스트에 저장한 후, 화면에 출력하는 프로그램을 작성하시오.\n",
        "\n",
        "준수사항: 다음 2개의 함수를 정의하여 프로그램에 활용\n",
        "\n",
        "input_list() : 빈 리스트를 만들고 사용자에게 정수 4개를 입력 받아 리스트에 저장한 후, 해당 리스트를 호출측에 반환하는 함수\n",
        "\n",
        "print_list(p) : 리스트를 전달받아 모든 요소를 순서대로 출력하는 함수\n",
        "\n",
        "---\n",
        "1번째 정수: 3\n",
        "2번째 정수: 5\n",
        "3번째 정수: 7\n",
        "4번째 정수: 9\n",
        "리스트의 1번째 요소 3\n",
        "리스트의 2번째 요소 5\n",
        "리스트의 3번째 요소 7\n",
        "리스트의 4번째 요소 9\n",
        "\n",
        "\n"
      ],
      "metadata": {
        "id": "a5KjjuHvCJ7v"
      }
    },
    {
      "cell_type": "code",
      "source": [
        "#############################\n",
        "## quest 1\n",
        "# 리스트가 반환형인 경우  - 사용자에게 입력 4번 받아서... 리스트로 생성\n",
        "# input_list()\n",
        "import random\n",
        "def input_list() :\n",
        "    numbers = []\n",
        "\n",
        "    for i in range(0,20) :\n",
        "        #num = int(input(\"정수 입력 : \"))\n",
        "        num = random.randint(1, 200)\n",
        "        numbers.append(num)\n",
        "\n",
        "    print(f'{numbers=}')\n",
        "    return numbers\n",
        "\n",
        "\n",
        "# 리스트가 매개변수인 경우 - 리스트 내용을 출력\n",
        "# print_list(p)\n",
        "def print_list(list1) :\n",
        "    for item in list1:\n",
        "        print(item, end = ', ')\n",
        "\n",
        "\n",
        "\n",
        "values = input_list()\n",
        "# print(f'{values=}')\n",
        "print_list(values)\n"
      ],
      "metadata": {
        "id": "3BiPMKaVGL27",
        "colab": {
          "base_uri": "https://localhost:8080/"
        },
        "outputId": "1c4302af-e925-4a7f-8732-b35c8002df8c"
      },
      "execution_count": null,
      "outputs": [
        {
          "output_type": "stream",
          "name": "stdout",
          "text": [
            "numbers=[113, 155, 37, 175, 109, 3, 175, 50, 56, 39, 181, 162, 42, 88, 151, 130, 14, 163, 107, 197]\n",
            "113, 155, 37, 175, 109, 3, 175, 50, 56, 39, 181, 162, 42, 88, 151, 130, 14, 163, 107, 197, "
          ]
        }
      ]
    },
    {
      "cell_type": "markdown",
      "source": [
        "## **2.3 리스트 함축**\n",
        "\n",
        "\n",
        "## **[수식 for (변수 in 리스트) if (조건) ]**"
      ],
      "metadata": {
        "id": "EEHH5QTNCsAu"
      }
    },
    {
      "cell_type": "code",
      "source": [
        "# 0 에서 9 까지의 제곱 값의 리스트 생성하기\n",
        "# 일반적인 경우\n",
        "list1 = []\n",
        "for x in range(0, 10) :\n",
        "    list1.append(x*x)\n",
        "print(f'{list1=}')\n",
        "\n",
        "\n",
        "# 리스트 함축인 경우\n",
        "list2 = [ x*x for x in range(0,10)]\n",
        "print(f'{list2=}')\n",
        "\n"
      ],
      "metadata": {
        "id": "tIJ77kfiDQdO",
        "colab": {
          "base_uri": "https://localhost:8080/"
        },
        "outputId": "5d1b9cd4-abb4-4455-e215-f42b525bc61e"
      },
      "execution_count": null,
      "outputs": [
        {
          "output_type": "stream",
          "name": "stdout",
          "text": [
            "list1=[0, 1, 4, 9, 16, 25, 36, 49, 64, 81]\n",
            "list2=[0, 1, 4, 9, 16, 25, 36, 49, 64, 81]\n"
          ]
        }
      ]
    },
    {
      "cell_type": "code",
      "source": [
        "# # 0 에서 9 까지 짝수만 제곱 값의 리스트 생성하기\n",
        "# 일반적인 경우\n",
        "list1 = []\n",
        "for x in range(0, 10) :\n",
        "    if x%2 == 0 :\n",
        "        list1.append(x*x)\n",
        "print(f'{list1=}')\n",
        "\n",
        "# 리스트 함축인 경우\n",
        "# [수식 for (변수 in 리스트) if (조건) ]\n",
        "list2 =[ x*x for x in range(0, 10) if x%2 ==0 ]\n",
        "print(f'{list2=}')\n"
      ],
      "metadata": {
        "id": "c4N9rgIpDt9e",
        "colab": {
          "base_uri": "https://localhost:8080/"
        },
        "outputId": "38b8016d-738f-496c-91af-8a013aa574b0"
      },
      "execution_count": null,
      "outputs": [
        {
          "output_type": "stream",
          "name": "stdout",
          "text": [
            "list1=[0, 4, 16, 36, 64]\n",
            "list2=[0, 4, 16, 36, 64]\n"
          ]
        }
      ]
    },
    {
      "cell_type": "code",
      "source": [
        "words = [\"All\", \"good\", \"things\", \"must\", \"come\", \"to\", \"an\", \"end.\"]\n",
        "# 다음 리스트 중 첫글자만 이용\n",
        "# 일반적인 경우\n",
        "letters = []\n",
        "for item in words:\n",
        "    #print(item[0])\n",
        "    letters.append(item[0])\n",
        "print(f'{letters=}')\n",
        "\n",
        "# 리스트 함축인 경우\n",
        "list2 = [item[0] for item in words]\n",
        "print(f'{list2=}')\n"
      ],
      "metadata": {
        "id": "cuBch1dMD1w-",
        "colab": {
          "base_uri": "https://localhost:8080/"
        },
        "outputId": "bd6632e6-fa97-4e15-c4f2-4fad23b0cd86"
      },
      "execution_count": null,
      "outputs": [
        {
          "output_type": "stream",
          "name": "stdout",
          "text": [
            "letters=['A', 'g', 't', 'm', 'c', 't', 'a', 'e']\n",
            "list2=['A', 'g', 't', 'm', 'c', 't', 'a', 'e']\n"
          ]
        }
      ]
    },
    {
      "cell_type": "markdown",
      "source": [
        "# **3부 파일 Preview**\n",
        "\n",
        "\n",
        "*  3단계 : 파일 열기(open()) - 읽고/쓰기 - 파일 닫기(close())\n"
      ],
      "metadata": {
        "id": "NFUFwvUiA-mj"
      }
    },
    {
      "cell_type": "code",
      "source": [
        "# 파일 열고 닫기\n",
        "\n",
        "# 파일 쓰기 모드로 열기 - 닫기\n",
        "outfile = open('example.txt', \"w\")\n",
        "outfile.close()\n",
        "\n",
        "# 파일 읽기 모드로 열기 - 닫기\n",
        "infile = open('example.txt', 'r')\n",
        "infile.close()"
      ],
      "metadata": {
        "id": "A4OELnMiG01u"
      },
      "execution_count": null,
      "outputs": []
    },
    {
      "cell_type": "markdown",
      "source": [
        "\n",
        "\n",
        "* 파일 쓰기 : write(문자열)  \n",
        "   - 문자열을 하나씩 쓰기\n",
        "\n",
        "\n",
        "\n"
      ],
      "metadata": {
        "id": "z7AApIlt8Pzq"
      }
    },
    {
      "cell_type": "code",
      "source": [
        "#1. 파일 쓰기 모드로 example.txt 열기\n",
        "outfile = open('example.txt', \"w\")\n",
        "outfile.write(\"hong\\n\")\n",
        "outfile.write(\"mju\\n\")\n",
        "outfile.write(str(10))\n",
        "outfile.close()\n"
      ],
      "metadata": {
        "id": "5na-_l808Xdq",
        "colab": {
          "base_uri": "https://localhost:8080/"
        },
        "outputId": "1a569318-2936-4099-c307-71374984137a"
      },
      "execution_count": null,
      "outputs": [
        {
          "output_type": "stream",
          "name": "stdout",
          "text": [
            "message='hong\\nmju\\n10'\n"
          ]
        }
      ]
    },
    {
      "cell_type": "markdown",
      "source": [
        "* 파일 읽기 : read()  \n",
        "   - 파일을 한꺼번에 읽음, 문자열로 리턴\n"
      ],
      "metadata": {
        "id": "_5CxrQcTHvNu"
      }
    },
    {
      "cell_type": "code",
      "source": [
        "#1. 파일 읽기 모드로 example.txt 열기\n",
        "infile = open('example.txt', \"r\")\n",
        "message = infile.read()\n",
        "infile.close()\n",
        "\n",
        "print(f'{message=}')"
      ],
      "metadata": {
        "id": "8HCOMRKZH97G"
      },
      "execution_count": null,
      "outputs": []
    }
  ]
}