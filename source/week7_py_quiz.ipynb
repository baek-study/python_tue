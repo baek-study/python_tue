{
  "nbformat": 4,
  "nbformat_minor": 0,
  "metadata": {
    "colab": {
      "provenance": [],
      "include_colab_link": true
    },
    "kernelspec": {
      "name": "python3",
      "display_name": "Python 3"
    },
    "language_info": {
      "name": "python"
    }
  },
  "cells": [
    {
      "cell_type": "markdown",
      "metadata": {
        "id": "view-in-github",
        "colab_type": "text"
      },
      "source": [
        "<a href=\"https://colab.research.google.com/github/baek-study/python_mon/blob/main/source/week7_py_quiz_mon.ipynb\" target=\"_parent\"><img src=\"https://colab.research.google.com/assets/colab-badge.svg\" alt=\"Open In Colab\"/></a>"
      ]
    },
    {
      "cell_type": "markdown",
      "source": [
        "### **[7주차 퀴즈 풀이] - 파이썬 입문(월)/백혜정 교수**"
      ],
      "metadata": {
        "id": "0XPbo0t2j9eo"
      }
    },
    {
      "cell_type": "markdown",
      "source": [
        "# quiz 1\n",
        "1에서 100까지 짝수를 더하시오"
      ],
      "metadata": {
        "id": "pJu2bht_dPES"
      }
    },
    {
      "cell_type": "code",
      "source": [
        "# 1에서 100까지 짝수 print\n",
        "count = 1\n",
        "while count <=100:\n",
        "   if count % 2 == 0:\n",
        "       print(f'{count}')\n",
        "   count += 1\n",
        "\n",
        "# 1에서 100까지 짝수 더하기\n",
        "sum = 0                     # sum 초기화\n",
        "count = 1\n",
        "while count <=100:\n",
        "   if count % 2 == 0:\n",
        "       sum += count         # 기존 sum에 count값 더해주기\n",
        "       #print(f'{count}')\n",
        "   count += 1\n",
        "\n",
        "print(f'{sum=}')"
      ],
      "metadata": {
        "id": "-DaNdxGSdXpL"
      },
      "execution_count": null,
      "outputs": []
    },
    {
      "cell_type": "markdown",
      "source": [
        "# quiz 2\n",
        "1에서 20 사이 입력 할 때 까지 사용자 입력 받기"
      ],
      "metadata": {
        "id": "u8lFAllGdowa"
      }
    },
    {
      "cell_type": "code",
      "source": [
        "# 버전1 : 입력 받은 값이 1보다 작고, 20 보다 크면 계속 사용자 입력\n",
        "\n",
        "num = int(input(\"정수 입력 하시오 : \"))\n",
        "\n",
        "while num<1 or num >20 :\n",
        "    num = int(input(\"정수 입력 하시오 : \"))\n",
        "\n",
        "print(f\"1과 20 사이의 값 입력 : {num=}\")"
      ],
      "metadata": {
        "colab": {
          "base_uri": "https://localhost:8080/"
        },
        "id": "eAxpFuJKdoK3",
        "outputId": "f2f015e4-35bc-4b50-9e06-080b71bc02f7"
      },
      "execution_count": null,
      "outputs": [
        {
          "output_type": "stream",
          "name": "stdout",
          "text": [
            "정수 입력 하시오 : -1\n",
            "정수 입력 하시오 : 22\n",
            "정수 입력 하시오 : 15\n",
            "1과 20 사이의 값 입력 : num=15\n"
          ]
        }
      ]
    },
    {
      "cell_type": "code",
      "source": [
        "# 버전2 : num 초기 값을 설정\n",
        "\n",
        "num = -1  # int(input(\"정수 입력 하시오 : \"))\n",
        "\n",
        "while num<1 or num >20 :  # while not(1 <= num <= 20) :\n",
        "    num = int(input(\"정수 입력 하시오 : \"))\n",
        "\n",
        "print(f\"1과 20 사이의 값 입력 : {num=}\")"
      ],
      "metadata": {
        "colab": {
          "base_uri": "https://localhost:8080/"
        },
        "id": "5A7ncQSeeJ6W",
        "outputId": "b8578e15-59a8-4ecd-a750-23a7f9f859ed"
      },
      "execution_count": null,
      "outputs": [
        {
          "output_type": "stream",
          "name": "stdout",
          "text": [
            "정수 입력 하시오 : -1\n",
            "정수 입력 하시오 : 22\n",
            "정수 입력 하시오 : 15\n",
            "1과 20 사이의 값 입력 : num=15\n"
          ]
        }
      ]
    },
    {
      "cell_type": "code",
      "source": [
        "# 버전3 : 무한루프 + break  /\n",
        "\n",
        "\n",
        "while True:\n",
        "    num = int(input(\"정수 입력 하시오 : \"))\n",
        "    if 1 <= num <= 20 :\n",
        "        break\n",
        "print(f\"1과 20 사이의 값 입력 : {num=}\")"
      ],
      "metadata": {
        "colab": {
          "base_uri": "https://localhost:8080/"
        },
        "id": "r6bUXrMIe0RW",
        "outputId": "6804da2b-8bde-41ac-89a2-efa9fbb40407"
      },
      "execution_count": null,
      "outputs": [
        {
          "output_type": "stream",
          "name": "stdout",
          "text": [
            "정수 입력 하시오 : -1\n",
            "정수 입력 하시오 : 22\n",
            "정수 입력 하시오 : 15\n",
            "1과 20 사이의 값 입력 : num=15\n"
          ]
        }
      ]
    }
  ]
}